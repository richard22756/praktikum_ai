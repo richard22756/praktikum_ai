{
  "nbformat": 4,
  "nbformat_minor": 0,
  "metadata": {
    "colab": {
      "provenance": []
    },
    "kernelspec": {
      "name": "python3",
      "display_name": "Python 3"
    },
    "language_info": {
      "name": "python"
    }
  },
  "cells": [
    {
      "cell_type": "code",
      "source": [
        "!pip install scikit-fuzzy\n"
      ],
      "metadata": {
        "colab": {
          "base_uri": "https://localhost:8080/"
        },
        "id": "gY21k4J4gFD8",
        "outputId": "84ee5ca6-26c5-462b-a3f1-2dc27b8da18c"
      },
      "execution_count": 2,
      "outputs": [
        {
          "output_type": "stream",
          "name": "stdout",
          "text": [
            "Collecting scikit-fuzzy\n",
            "  Downloading scikit_fuzzy-0.5.0-py2.py3-none-any.whl.metadata (2.6 kB)\n",
            "Downloading scikit_fuzzy-0.5.0-py2.py3-none-any.whl (920 kB)\n",
            "\u001b[2K   \u001b[90m━━━━━━━━━━━━━━━━━━━━━━━━━━━━━━━━━━━━━━━━\u001b[0m \u001b[32m920.8/920.8 kB\u001b[0m \u001b[31m7.7 MB/s\u001b[0m eta \u001b[36m0:00:00\u001b[0m\n",
            "\u001b[?25hInstalling collected packages: scikit-fuzzy\n",
            "Successfully installed scikit-fuzzy-0.5.0\n"
          ]
        }
      ]
    },
    {
      "cell_type": "code",
      "execution_count": 4,
      "metadata": {
        "colab": {
          "base_uri": "https://localhost:8080/",
          "height": 621
        },
        "id": "ZO1BK4PVfz7R",
        "outputId": "381d75cb-3d29-4101-98b1-1a585979d4c9"
      },
      "outputs": [
        {
          "output_type": "display_data",
          "data": {
            "text/plain": [
              "<Figure size 640x480 with 1 Axes>"
            ],
            "image/png": "[encoded data removed]"
          },
          "metadata": {}
        },
        {
          "output_type": "stream",
          "name": "stdout",
          "text": [
            "   waktu_tunggu  kualitas_layanan  prediksi_kepuasan kategori_kepuasan\n",
            "0             5                 9           8.600000            Tinggi\n",
            "1            10                 7           8.238095            Tinggi\n",
            "2            15                 6           5.000000            Sedang\n",
            "3            20                 5           5.000000            Sedang\n",
            "4             3                 8           8.444444            Tinggi\n"
          ]
        }
      ],
      "source": [
        "import numpy as np\n",
        "import pandas as pd\n",
        "import skfuzzy as fuzz\n",
        "from skfuzzy import control as ctrl\n",
        "import matplotlib.pyplot as plt\n",
        "\n",
        "# =======================\n",
        "# 1. Load Dataset\n",
        "# =======================\n",
        "df = pd.read_csv(\"dataset_kepuasan.csv\")\n",
        "\n",
        "# =======================\n",
        "# 2. Definisi Variabel Fuzzy\n",
        "# =======================\n",
        "waktu_tunggu = ctrl.Antecedent(np.arange(0, 61, 1), 'waktu_tunggu')\n",
        "kualitas_layanan = ctrl.Antecedent(np.arange(0, 11, 1), 'kualitas_layanan')\n",
        "kepuasan = ctrl.Consequent(np.arange(0, 11, 1), 'kepuasan')\n",
        "\n",
        "# Membership function waktu tunggu\n",
        "waktu_tunggu['cepat']  = fuzz.trimf(waktu_tunggu.universe, [0, 0, 15])\n",
        "waktu_tunggu['sedang'] = fuzz.trimf(waktu_tunggu.universe, [10, 25, 40])\n",
        "waktu_tunggu['lama']   = fuzz.trimf(waktu_tunggu.universe, [30, 60, 60])\n",
        "\n",
        "# Membership function kualitas layanan\n",
        "kualitas_layanan['buruk']  = fuzz.trimf(kualitas_layanan.universe, [0, 0, 5])\n",
        "kualitas_layanan['sedang'] = fuzz.trimf(kualitas_layanan.universe, [3, 5, 7])\n",
        "kualitas_layanan['baik']   = fuzz.trimf(kualitas_layanan.universe, [6, 10, 10])\n",
        "\n",
        "# Membership function kepuasan (output)\n",
        "kepuasan['rendah'] = fuzz.trimf(kepuasan.universe, [0, 0, 5])\n",
        "kepuasan['sedang'] = fuzz.trimf(kepuasan.universe, [3, 5, 7])\n",
        "kepuasan['tinggi'] = fuzz.trimf(kepuasan.universe, [6, 10, 10])\n",
        "\n",
        "# =======================\n",
        "# 3. Aturan Fuzzy\n",
        "# =======================\n",
        "rule1 = ctrl.Rule(waktu_tunggu['cepat'] & kualitas_layanan['baik'], kepuasan['tinggi'])\n",
        "rule2 = ctrl.Rule(waktu_tunggu['lama'] & kualitas_layanan['buruk'], kepuasan['rendah'])\n",
        "rule3 = ctrl.Rule(waktu_tunggu['sedang'] & kualitas_layanan['sedang'], kepuasan['sedang'])\n",
        "rule4 = ctrl.Rule(kualitas_layanan['baik'], kepuasan['tinggi'])\n",
        "rule5 = ctrl.Rule(waktu_tunggu['lama'], kepuasan['rendah'])\n",
        "# tambahan biar semua kombinasi ada\n",
        "rule6 = ctrl.Rule(waktu_tunggu['sedang'] & kualitas_layanan['buruk'], kepuasan['rendah'])\n",
        "rule7 = ctrl.Rule(waktu_tunggu['lama'] & kualitas_layanan['baik'], kepuasan['sedang'])\n",
        "rule8 = ctrl.Rule(waktu_tunggu['cepat'] & kualitas_layanan['buruk'], kepuasan['sedang'])\n",
        "\n",
        "# =======================\n",
        "# 4. Sistem Kontrol\n",
        "# =======================\n",
        "kepuasan_ctrl = ctrl.ControlSystem([rule1, rule2, rule3, rule4, rule5, rule6, rule7, rule8])\n",
        "kepuasan_sim = ctrl.ControlSystemSimulation(kepuasan_ctrl)\n",
        "\n",
        "# =======================\n",
        "# 5. Proses Dataset\n",
        "# =======================\n",
        "hasil = []\n",
        "for i, row in df.iterrows():\n",
        "    try:\n",
        "        kepuasan_sim.input['waktu_tunggu'] = row['waktu_tunggu']\n",
        "        kepuasan_sim.input['kualitas_layanan'] = row['kualitas_layanan']\n",
        "        kepuasan_sim.compute()\n",
        "        hasil.append(kepuasan_sim.output['kepuasan'])\n",
        "    except:\n",
        "        hasil.append(np.nan)  # kalau ada error, isi NaN\n",
        "\n",
        "df['prediksi_kepuasan'] = hasil\n",
        "\n",
        "# Insight: klasifikasi kategori\n",
        "df['kategori_kepuasan'] = pd.cut(df['prediksi_kepuasan'],\n",
        "                                 bins=[0,4,7,10],\n",
        "                                 labels=['Rendah','Sedang','Tinggi'])\n",
        "\n",
        "# =======================\n",
        "# 6. Plot Distribusi\n",
        "# =======================\n",
        "df['kategori_kepuasan'].value_counts().plot(kind='bar', color=['red','orange','green'])\n",
        "plt.title(\"Distribusi Kepuasan Pelanggan\")\n",
        "plt.xlabel(\"Kategori\")\n",
        "plt.ylabel(\"Jumlah\")\n",
        "plt.show()\n",
        "\n",
        "# =======================\n",
        "# 7. Simpan Hasil\n",
        "# =======================\n",
        "df.to_csv(\"hasil_kepuasan.csv\", index=False)\n",
        "print(df.head())\n"
      ]
    }
  ]
}